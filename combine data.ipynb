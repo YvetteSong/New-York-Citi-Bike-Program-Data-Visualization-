{
 "cells": [
  {
   "cell_type": "code",
   "execution_count": 12,
   "id": "dee23a65-1667-4d8f-8385-0a4ac0fb1742",
   "metadata": {},
   "outputs": [],
   "source": [
    "# combine the data for each month"
   ]
  },
  {
   "cell_type": "code",
   "execution_count": 13,
   "id": "97008506-c273-4285-92fa-343b740ece16",
   "metadata": {},
   "outputs": [],
   "source": [
    "# Dependencies and Setup\n",
    "import pandas as pd\n",
    "from pathlib import Path\n",
    "import glob"
   ]
  },
  {
   "cell_type": "code",
   "execution_count": 7,
   "id": "853dcfb5-b900-4325-bcb1-cb918cfa4912",
   "metadata": {},
   "outputs": [],
   "source": [
    "# Read the first CSV file\n",
    "sample_jun_data1 = pd.read_csv(\"cleaned data/sample_jun_data1.csv\")\n",
    "sample_jun_data2 = pd.read_csv(\"cleaned data/sample_jun_data2.csv\")\n",
    "sample_jun_data3 = pd.read_csv(\"cleaned data/sample_jun_data3.csv\")\n",
    "sample_jun_data4 = pd.read_csv(\"cleaned data/sample_jun_data4.csv\")\n",
    "\n",
    "sample_jul_data1 = pd.read_csv(\"cleaned data/sample_jul_data1.csv\")\n",
    "sample_jul_data2 = pd.read_csv(\"cleaned data/sample_jul_data2.csv\")\n",
    "sample_jul_data3 = pd.read_csv(\"cleaned data/sample_jul_data3.csv\")\n",
    "sample_jul_data4 = pd.read_csv(\"cleaned data/sample_jul_data4.csv\")\n",
    "\n",
    "sample_aug_data1 = pd.read_csv(\"cleaned data/sample_aug_data1.csv\")\n",
    "sample_aug_data2 = pd.read_csv(\"cleaned data/sample_aug_data2.csv\")\n",
    "sample_aug_data3 = pd.read_csv(\"cleaned data/sample_aug_data3.csv\")\n",
    "sample_aug_data4 = pd.read_csv(\"cleaned data/sample_aug_data4.csv\")\n",
    "sample_aug_data5 = pd.read_csv(\"cleaned data/sample_aug_data5.csv\")\n"
   ]
  },
  {
   "cell_type": "code",
   "execution_count": 8,
   "id": "40f31de2-230b-47f0-b672-d1bb4aefb4e2",
   "metadata": {
    "scrolled": true,
    "tags": []
   },
   "outputs": [],
   "source": [
    "# Combine all of the June data\n",
    "\n",
    "# List all CSV files in the directory that contain 'June' in their filename\n",
    "csv_files = glob.glob('cleaned data/*jun*.csv')\n",
    "\n",
    "# Initialize an empty list to store DataFrames\n",
    "jun_dfs = []\n",
    "\n",
    "# Loop through the list of CSV files and read each one into a DataFrame\n",
    "for file in csv_files:\n",
    "    df_6 = pd.read_csv(file)\n",
    "    jun_dfs.append(df_6)\n",
    "\n",
    "# Concatenate all DataFrames in the list into a single DataFrame\n",
    "combined_june_df = pd.concat(jun_dfs, ignore_index=True)\n",
    "combined_june_df \n",
    "\n",
    "# Save the combined DataFrame to a new CSV file\n",
    "combined_june_df.to_csv('combined_june_file.csv', index=False)\n"
   ]
  },
  {
   "cell_type": "code",
   "execution_count": 9,
   "id": "1822dc7b-feff-4318-9b03-6ee7fc776d08",
   "metadata": {
    "scrolled": true,
    "tags": []
   },
   "outputs": [],
   "source": [
    "# Combine all of the August data\n",
    "csv_files = glob.glob('cleaned data/*aug*.csv')\n",
    "\n",
    "# Initialize an empty list to store DataFrames\n",
    "aug_dfs = []\n",
    "\n",
    "# Loop through the list of CSV files and read each one into a DataFrame\n",
    "for file in csv_files:\n",
    "    df_8 = pd.read_csv(file)\n",
    "    aug_dfs.append(df_8)\n",
    "\n",
    "# Concatenate all DataFrames in the list into a single DataFrame\n",
    "combined_august_df = pd.concat(aug_dfs, ignore_index=True)\n",
    "\n",
    "# Save the combined DataFrame to a new CSV file\n",
    "combined_august_df.to_csv('combined_august_file.csv', index=False)\n"
   ]
  },
  {
   "cell_type": "code",
   "execution_count": 15,
   "id": "a25f1417-a736-4fb5-9350-70cdb73a363c",
   "metadata": {},
   "outputs": [],
   "source": [
    "# Combine all of the July data\n",
    "csv_files = glob.glob('cleaned data/*jul*.csv')\n",
    "\n",
    "# Initialize an empty list to store DataFrames\n",
    "jul_dfs = []\n",
    "\n",
    "# Loop through the list of CSV files and read each one into a DataFrame\n",
    "for file in csv_files:\n",
    "    df_7 = pd.read_csv(file)\n",
    "    jul_dfs.append(df_7)\n",
    "\n",
    "# Concatenate all DataFrames in the list into a single DataFrame\n",
    "combined_july_df = pd.concat(jul_dfs, ignore_index=True)\n",
    "combined_july_df \n",
    "\n",
    "# Save the combined DataFrame to a new CSV file\n",
    "combined_july_df.to_csv('combined_july_file.csv', index=False)"
   ]
  },
  {
   "cell_type": "code",
   "execution_count": null,
   "id": "9879531f-82fd-4a82-842b-05ec48a96a87",
   "metadata": {},
   "outputs": [],
   "source": [
    "#combined summer data"
   ]
  }
 ],
 "metadata": {
  "kernelspec": {
   "display_name": "Python 3 (ipykernel)",
   "language": "python",
   "name": "python3"
  },
  "language_info": {
   "codemirror_mode": {
    "name": "ipython",
    "version": 3
   },
   "file_extension": ".py",
   "mimetype": "text/x-python",
   "name": "python",
   "nbconvert_exporter": "python",
   "pygments_lexer": "ipython3",
   "version": "3.10.9"
  }
 },
 "nbformat": 4,
 "nbformat_minor": 5
}
